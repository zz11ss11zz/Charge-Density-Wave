{
 "cells": [
  {
   "cell_type": "code",
   "execution_count": 1,
   "id": "19dbb4eb-41b7-465e-ae6a-6d3c03f18607",
   "metadata": {},
   "outputs": [],
   "source": [
    "import os\n",
    "import numpy as np\n",
    "import csv"
   ]
  },
  {
   "cell_type": "code",
   "execution_count": 3,
   "id": "438ec88e-eaed-4aad-b02b-2a82e87380e0",
   "metadata": {},
   "outputs": [],
   "source": [
    "# read file name\n",
    "input_kx_file = \"KX.grd\"\n",
    "input_ky_file = \"KY.grd\"\n",
    "input_energy_file = \"energy.grd\""
   ]
  },
  {
   "cell_type": "code",
   "execution_count": 5,
   "id": "0d3de9ef-eaef-495f-84c0-1b4c069c97a4",
   "metadata": {},
   "outputs": [],
   "source": [
    "#  read function that supports multiple columns of floating-point numbers\n",
    "def read_floats(filename):\n",
    "    with open(filename, 'r') as f:\n",
    "        return np.array([\n",
    "            float(num)\n",
    "            for line in f if line.strip()\n",
    "            for num in line.strip().split()\n",
    "        ])"
   ]
  },
  {
   "cell_type": "code",
   "execution_count": 6,
   "id": "d79137c5-e2c0-4328-b71a-b98c0dd631f2",
   "metadata": {},
   "outputs": [],
   "source": [
    "",
    "kx = read_floats(input_kx_file)\n",
    "ky = read_floats(input_ky_file)\n",
    "band = read_floats(input_energy_file)"
   ]
  },
  {
   "cell_type": "code",
   "execution_count": 7,
   "id": "7f81dabd-3103-425b-8f93-fff3f18e16fb",
   "metadata": {},
   "outputs": [],
   "source": [
    "",
    "index = np.arange(1, len(kx) + 1)\n",
    "\n",
    "",
    "lookup_table = np.column_stack((index, kx, ky, band))\n",
    "\n",
    "",
    "header = [\"indexk\", \"kx\", \"ky\", \"band\"]"
   ]
  },
  {
   "cell_type": "code",
   "execution_count": 8,
   "id": "87dd21ce-2162-4269-acf2-f1edcb7f532f",
   "metadata": {},
   "outputs": [],
   "source": [
    "",
    "output_file = \"Fermi_surface.csv\"\n",
    "with open(output_file, mode='w', newline='') as f:\n",
    "    writer = csv.writer(f)\n",
    "    writer.writerow(header)\n",
    "    writer.writerows(lookup_table)"
   ]
  },
  {
   "cell_type": "code",
   "execution_count": null,
   "id": "def67ae7-fd72-418a-b70f-2dfa9747fa5b",
   "metadata": {},
   "outputs": [],
   "source": []
  }
 ],
 "metadata": {
  "kernelspec": {
   "display_name": "Python 3 (ipykernel)",
   "language": "python",
   "name": "python3"
  },
  "language_info": {
   "codemirror_mode": {
    "name": "ipython",
    "version": 3
   },
   "file_extension": ".py",
   "mimetype": "text/x-python",
   "name": "python",
   "nbconvert_exporter": "python",
   "pygments_lexer": "ipython3",
   "version": "3.9.19"
  }
 },
 "nbformat": 4,
 "nbformat_minor": 5
}
